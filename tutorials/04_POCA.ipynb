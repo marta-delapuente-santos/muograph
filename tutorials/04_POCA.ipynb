{
 "cells": [
  {
   "cell_type": "code",
   "execution_count": null,
   "metadata": {},
   "outputs": [],
   "source": [
    "path_to_muograph = \"../\"\n",
    "import sys\n",
    "sys.path.insert(1, path_to_muograph)"
   ]
  },
  {
   "cell_type": "markdown",
   "metadata": {},
   "source": [
    "![alternative text](../images/muograph_logo.png)\n",
    "\n",
    "\n",
    "**<h1><center>POCA: tutorial</center></h1>**\n",
    "\n",
    "The `POCA` class is used to compute the **Point of Closest Approach location**, from the **tracking information** provided by the `TrackingMST`.\n",
    "\n",
    "### **I - Instanciation** \n",
    "\n",
    "First, let's instanciante the `TrackingMST` class. At first, we will consider a detector with perfect **spatial resolution** and **efficiency**:"
   ]
  },
  {
   "cell_type": "code",
   "execution_count": null,
   "metadata": {},
   "outputs": [],
   "source": [
    "csv_file = '../muograph/data/iron_barrel/barrel_and_cubes_scattering.csv'\n",
    "\n",
    "from muograph.hits.hits import Hits\n",
    "\n",
    "hits_in = Hits(\n",
    "    csv_filename = csv_file,  # The csv file\n",
    "    plane_labels = (0, 1, 2),  # Include hits from first planes 0, 1 and 2\n",
    "    input_unit = \"mm\",  # The distance unit in the csv file.\n",
    ")\n",
    "hits_in"
   ]
  },
  {
   "cell_type": "code",
   "execution_count": null,
   "metadata": {},
   "outputs": [],
   "source": [
    "hits_out = Hits(\n",
    "    csv_filename = csv_file,  # The csv file\n",
    "    plane_labels = (3, 4, 5),  # Include hits from first planes 0, 1 and 2\n",
    "    input_unit = \"mm\",  # The distance unit in the csv file.\n",
    ")\n",
    "hits_out"
   ]
  },
  {
   "cell_type": "code",
   "execution_count": null,
   "metadata": {},
   "outputs": [],
   "source": [
    "from muograph.tracking.tracking import Tracking\n",
    "\n",
    "tracks_in = Tracking(label=\"above\", hits=hits_in)\n",
    "tracks_out = Tracking(label=\"below\", hits=hits_out)\n",
    "\n",
    "tracks_in, tracks_out\n"
   ]
  },
  {
   "cell_type": "code",
   "execution_count": null,
   "metadata": {},
   "outputs": [],
   "source": [
    "output_dir = \"../output_test/\"\n",
    "from muograph.tracking.tracking import TrackingMST\n",
    "mst = TrackingMST(trackings=(tracks_in, tracks_out))\n",
    "mst"
   ]
  },
  {
   "cell_type": "markdown",
   "metadata": {},
   "source": [
    "The `POCA` class takes the following **arguments**:\n",
    "\n",
    "\n",
    "- `tracking (Optional[TrackingMST])`: Instance of the TrackingMST class.\n",
    "\n",
    "- `voi (Optional[Volume])`: Instance of the Volume class. If provided, muon events with poca locations outside the voi will be filtered out, the number of poca locations per voxel `n_poca_per_vox` as well as the voxel indices of each poca location will be computed.\n",
    "\n",
    "- `poca_file (Optional[str])`: The path to the poca.hdf5 to load attributes from.\n",
    "\n",
    "- `output_dir (Optional[str])`: Path to a directory where to save POCA attributes in a hdf5 file."
   ]
  },
  {
   "cell_type": "markdown",
   "metadata": {},
   "source": [
    "Let's instanciate the `POCA` class using an instances of `TrackingMST` and `Volume` class."
   ]
  },
  {
   "cell_type": "code",
   "execution_count": null,
   "metadata": {},
   "outputs": [],
   "source": [
    "from muograph.volume.volume import Volume\n",
    "voi = Volume(\n",
    "    position = (0, 0, -1200), # The position of the Volume of interest.\n",
    "    dimension = (1000, 600, 600), # The dimensions of the Volume of interest.\n",
    "    voxel_width = 20) # The voxel size."
   ]
  },
  {
   "cell_type": "code",
   "execution_count": null,
   "metadata": {},
   "outputs": [],
   "source": [
    "from muograph.reconstruction.poca import POCA\n",
    "poca = POCA(tracking=mst, voi=voi, output_dir=\"../output_test/\")"
   ]
  },
  {
   "cell_type": "markdown",
   "metadata": {},
   "source": [
    "### **II - POCA points**"
   ]
  },
  {
   "cell_type": "markdown",
   "metadata": {},
   "source": [
    "When instanciated, the `POCA` class follows the following workflow:\n",
    "\n",
    " - **Remove** events with **parallel incoming** and **outgoing tracks**, as the closest point between two parallel lines is not defined.\n",
    "\n",
    " - Computes POCA locations.\n",
    "  \n",
    " - **Remove events** with **POCAs outside** of the **volume of interest**, as they will not contribute to the scattering density inference.\n",
    "\n",
    "The Point Of Closest Approach is **defined** as the **closest point between two straight lines** and is computed by the `POCA.compute_poca_points()` method."
   ]
  },
  {
   "cell_type": "code",
   "execution_count": null,
   "metadata": {},
   "outputs": [],
   "source": [
    "event = 12214\n",
    "\n",
    "poca.plot_poca_event(\n",
    "    event = event, \n",
    "    voi=voi, \n",
    "    proj=\"XZ\",\n",
    "    figname=\"../output_test/poca_event_display\")"
   ]
  },
  {
   "cell_type": "code",
   "execution_count": null,
   "metadata": {},
   "outputs": [],
   "source": [
    "poca.poca_points, poca.poca_points.shape"
   ]
  },
  {
   "cell_type": "code",
   "execution_count": null,
   "metadata": {},
   "outputs": [],
   "source": [
    "event = 12214\n",
    "f\"POCA location of event {event:,d} is x, y, z = {poca.poca_points[event, 0]:.1f}, {poca.poca_points[event, 1]:.1f}, {poca.poca_points[event, 2]:.1f} [mm]\""
   ]
  },
  {
   "cell_type": "markdown",
   "metadata": {},
   "source": [
    "By **removing events** with **parallel tracks** and **POCA locations** **outisde** of the volume of interest, approximatly **half** of the **events** **got discarded**!"
   ]
  },
  {
   "cell_type": "code",
   "execution_count": null,
   "metadata": {},
   "outputs": [],
   "source": [
    "mst, poca"
   ]
  },
  {
   "cell_type": "markdown",
   "metadata": {},
   "source": [
    "Let's **plot** the coordinates of the **POCA locations**:"
   ]
  },
  {
   "cell_type": "code",
   "execution_count": null,
   "metadata": {},
   "outputs": [],
   "source": [
    "from muograph.plotting.plotting import plot_hist\n",
    "import torch\n",
    "plot_hist(poca.poca_points[:, 0].cpu() , xlabel=r\"POCA location $x$ [mm]\")"
   ]
  },
  {
   "cell_type": "code",
   "execution_count": null,
   "metadata": {},
   "outputs": [],
   "source": [
    "plot_hist(poca.poca_points[:, 1].cpu(), xlabel=r\"POCA location $y$ [mm]\")"
   ]
  },
  {
   "cell_type": "code",
   "execution_count": null,
   "metadata": {},
   "outputs": [],
   "source": [
    "plot_hist(poca.poca_points[:, 2].cpu(), xlabel=r\"POCA location $z$ [mm]\")"
   ]
  },
  {
   "cell_type": "markdown",
   "metadata": {},
   "source": [
    "### **III - POCA points per voxel**"
   ]
  },
  {
   "cell_type": "markdown",
   "metadata": {},
   "source": [
    "Once the **POCA locations** are computed, one computes the number of POCA per voxel: `n_poca_per_vox`.\n",
    "\n",
    "It conviently produces a $(n_x, n_y, n_z)$ array of integers, where $n_i$ is the number of voxels along the $i$ direction."
   ]
  },
  {
   "cell_type": "code",
   "execution_count": null,
   "metadata": {},
   "outputs": [],
   "source": [
    "poca.n_poca_per_vox, poca.n_poca_per_vox.shape"
   ]
  },
  {
   "cell_type": "code",
   "execution_count": null,
   "metadata": {},
   "outputs": [],
   "source": [
    "ix, iy, iz = 24, 15, 14\n",
    "f\"Voxel with indices {ix},{iy},{iz} contains {poca.n_poca_per_vox[ix, iy, iz]} poca points.\""
   ]
  },
  {
   "cell_type": "markdown",
   "metadata": {},
   "source": [
    "### **IV - Plotting voxelized density predictions**"
   ]
  },
  {
   "cell_type": "markdown",
   "metadata": {},
   "source": [
    "The number of POCAs per voxel can be used to produce voxelized **scattering density predictions**.\n",
    "\n",
    "The `POCA` class comes along a set of funtions to **plot voxelized scattering density predictions**, as it inherits from the `VoxelPlotting` class.\n",
    "\n",
    "Let's plot the average number of **POCA points** along various projections using the `VoxelPlotting.plot_pred_slice()` function. \n",
    "\n",
    "The latter plots the number of POCA points per voxel as a **2D histogram** (center) as well as the **associated 1D histograms** (top and right)."
   ]
  },
  {
   "cell_type": "markdown",
   "metadata": {},
   "source": [
    "##### **Plot XY projection**"
   ]
  },
  {
   "cell_type": "code",
   "execution_count": null,
   "metadata": {},
   "outputs": [],
   "source": [
    "# Choose a dimension to project along (0 = x, 1 = y, 2 = z)\n",
    "dim = 2 \n",
    "\n",
    "poca.plot_pred_slice(\n",
    "    voi=voi,  # The volume of interest\n",
    "    xyz_voxel_preds=poca.n_poca_per_vox,  # The voxelized predictions to plot\n",
    "    voi_slice=(0, voi.n_vox_xyz[dim]-1), # Choose a range of voxels to plot along the desired direction\n",
    "    dim = dim, # The dimension to project along\n",
    "    figname = \"../output_test/n_poca_per_vox_all_volume\", # The name of the figure to save\n",
    "    pred_label=\"# POCA \\n/ voxel\",\n",
    "    pred_unit=\"\",\n",
    ")"
   ]
  },
  {
   "cell_type": "markdown",
   "metadata": {},
   "source": [
    "##### **Plot XZ projection**"
   ]
  },
  {
   "cell_type": "code",
   "execution_count": null,
   "metadata": {},
   "outputs": [],
   "source": [
    "# Choose a dimension to project along (0 = x, 1 = y, 2 = z)\n",
    "dim = 1\n",
    "\n",
    "poca.plot_pred_slice(\n",
    "    voi=voi,  # The volume of interest\n",
    "    xyz_voxel_preds=poca.n_poca_per_vox,  # The voxelized predictions to plot\n",
    "    voi_slice=(0, voi.n_vox_xyz[dim]-1), # Choose a range of voxels to plot along the desired direction\n",
    "    dim = dim, # The dimension to project along\n",
    "    figname = \"../output_test/n_poca_per_vox_all_volume\", # The name of the figure to save\n",
    "    pred_label=\"# POCA \\n/ voxel\",\n",
    "    pred_unit=\"\",\n",
    ")"
   ]
  },
  {
   "cell_type": "markdown",
   "metadata": {},
   "source": [
    "##### **Plot YZ projection**"
   ]
  },
  {
   "cell_type": "code",
   "execution_count": null,
   "metadata": {},
   "outputs": [],
   "source": [
    "# Choose a dimension to project along (0 = x, 1 = y, 2 = z)\n",
    "dim = 0\n",
    "\n",
    "poca.plot_pred_slice(\n",
    "    voi=voi,  # The volume of interest\n",
    "    xyz_voxel_preds=poca.n_poca_per_vox,  # The voxelized predictions to plot\n",
    "    voi_slice=(0, voi.n_vox_xyz[dim]-1), # Choose a range of voxels to plot along the desired direction\n",
    "    dim = dim, # The dimension to project along\n",
    "    figname = \"../output_test/n_poca_per_vox_all_volume\", # The name of the figure to save\n",
    "    pred_label=\"# POCA \\n/ voxel\",\n",
    "    pred_unit=\"\",\n",
    ")"
   ]
  },
  {
   "cell_type": "markdown",
   "metadata": {},
   "source": [
    "While **plotting** the number of **POCAs averaged** along a **direction** is **convenient** to get an idea of the reconstructed image as a whole, it is also meaningfull to plot the predictions by slices of voxels.\n",
    "\n",
    "The `VoxelPlotting.plot_pred_by_slice` is designed to do so. Similarly to `VoxelPlotting.plot_pred_slice`, it plots voxelized predictions along a given projection:"
   ]
  },
  {
   "cell_type": "code",
   "execution_count": null,
   "metadata": {},
   "outputs": [],
   "source": [
    "# Choose a dimension to project along (0 = x, 1 = y, 2 = z)\n",
    "dim = 2\n",
    "\n",
    "poca.plot_pred_by_slice(\n",
    "    voi=voi, # The volume of interest\n",
    "    xyz_voxel_preds=poca.n_poca_per_vox,  # The voxelized predictions to plot\n",
    "    voi_slice=(0, voi.n_vox_xyz[dim]-1), # Choose a range of voxels to plot along the desired direction\n",
    "    dim=dim,  # The dimension to project along\n",
    "    nslice_per_plot=2, # The number of slice per plot\n",
    "    ncols=4, # The number of columns of the plot\n",
    "    pred_unit=\"\",\n",
    "    pred_label=\"# POCA / voxel\",\n",
    "    figname = \"../output_test/n_poca_per_vox_slice\"\n",
    ")\n"
   ]
  },
  {
   "cell_type": "code",
   "execution_count": null,
   "metadata": {},
   "outputs": [],
   "source": [
    "# Choose a dimension to project along (0 = x, 1 = y, 2 = z)\n",
    "dim = 1\n",
    "\n",
    "poca.plot_pred_by_slice(\n",
    "    voi=voi, # The volume of interest\n",
    "    xyz_voxel_preds=poca.n_poca_per_vox,  # The voxelized predictions to plot\n",
    "    voi_slice=(0, voi.n_vox_xyz[dim]-1), # Choose a range of voxels to plot along the desired direction\n",
    "    dim=dim,  # The dimension to project along\n",
    "    nslice_per_plot=2, # The number of slice per plot\n",
    "    ncols=4, # The number of columns of the plot\n",
    "    pred_unit=\"\",\n",
    "    pred_label=\"# POCA / voxel\",\n",
    "    figname = \"../output_test/n_poca_per_vox_slice\"\n",
    ")\n"
   ]
  },
  {
   "cell_type": "code",
   "execution_count": null,
   "metadata": {},
   "outputs": [],
   "source": [
    "# Choose a dimension to project along (0 = x, 1 = y, 2 = z)\n",
    "dim = 0\n",
    "\n",
    "poca.plot_pred_by_slice(\n",
    "    voi=voi, # The volume of interest\n",
    "    xyz_voxel_preds=poca.n_poca_per_vox,  # The voxelized predictions to plot\n",
    "    voi_slice=(0, voi.n_vox_xyz[dim]-1), # Choose a range of voxels to plot along the desired direction\n",
    "    dim=dim,  # The dimension to project along\n",
    "    nslice_per_plot=2, # The number of slice per plot\n",
    "    ncols=5, # The number of columns of the plot\n",
    "    pred_unit=\"\",\n",
    "    pred_label=\"# POCA / voxel\",\n",
    "    figname = \"../output_test/n_poca_per_vox_slice\"\n",
    ")\n"
   ]
  },
  {
   "cell_type": "code",
   "execution_count": null,
   "metadata": {},
   "outputs": [],
   "source": []
  }
 ],
 "metadata": {
  "kernelspec": {
   "display_name": "Python 3 (ipykernel)",
   "language": "python",
   "name": "python3"
  },
  "language_info": {
   "codemirror_mode": {
    "name": "ipython",
    "version": 3
   },
   "file_extension": ".py",
   "mimetype": "text/x-python",
   "name": "python",
   "nbconvert_exporter": "python",
   "pygments_lexer": "ipython3",
   "version": "3.10.16"
  }
 },
 "nbformat": 4,
 "nbformat_minor": 2
}
