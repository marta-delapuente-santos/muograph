{
 "cells": [
  {
   "cell_type": "code",
   "execution_count": null,
   "metadata": {},
   "outputs": [],
   "source": [
    "path_to_muograph = \"../\"\n",
    "import sys\n",
    "sys.path.insert(1, path_to_muograph)"
   ]
  },
  {
   "cell_type": "markdown",
   "metadata": {},
   "source": [
    "![alternative text](../images/muograph_logo.png)\n",
    "\n",
    "\n",
    "**<h1><center>Tracking: tutorial</center></h1>**\n",
    "\n",
    "The `Tracking` class is used to **convert muon hits** of the `Hits` class into linear **tracks** usable for **image reconstruction** purposes.\n",
    "\n",
    "It provides methods to **process data**, compute **angles** and **vizualize** results:\n",
    "\n",
    "**SUMMARY**:\n",
    "\n",
    "1. ***Data Handling and Initialization***:\n",
    "   - *Tracking Initialization*:\n",
    "     - Tracks are either computed from **Hits** (detector data) or loaded from **files** (HDF5 or DataFrame).\n",
    "\n",
    "\n",
    "2. ***Track Reconstruction***:\n",
    "   - *Linear Fit of Hits*:\n",
    "        - Uses singular value decomposition (SVD) to compute fitted **tracks** and track **points**.\n",
    "        - **Handles** **large datasets** by processing in chunks.\n",
    "\n",
    "   - *Zenith Angles*:\n",
    "\n",
    "       - Calculates the **zenith angle** (theta) and its **projections** in $XZ$ and $YZ$ planes.\n",
    "\n",
    "3. ***Resolution and efficiency***:\n",
    "   - *Angular Error*:\n",
    "        - Measures the **difference** between **generated** and **reconstructed** **zenith angles**.\n",
    "        - Computes **angular resolution** as the standard deviation of angular error.\n",
    "    - *Efficiency*:\n",
    "        - Computes the tracks **efficiency** \n",
    "\n",
    "4. ***Visualization***:\n",
    "   - *Plots for*:\n",
    "        - Muon features like **zenith angles** and **energy**.\n",
    "        - **Angular error** distributions.\n",
    "        - Individual fitted muon **tracks** (e.g., hits and tracks in XZ/YZ projections)."
   ]
  },
  {
   "cell_type": "markdown",
   "metadata": {},
   "source": [
    "The initiliazation can be done in three ways:\n",
    "- By providing `hits`: Computes tracks and saves them as HDF5 files in `output_dir`.\n",
    "  \n",
    "- By providing `tracks_hdf5`: Loads tracking features from the specified HDF5 file.\n",
    "\n",
    "- By providing `tracks_df`: Loads tracking features from the specified Pandas DataFrame."
   ]
  },
  {
   "cell_type": "markdown",
   "metadata": {},
   "source": [
    "The `Tracking` class **takes** the following **arguments**:\n",
    "\n",
    "- `label (str)`: The **position** of the **hits** relative to the passive volume ('above' or 'below').\n",
    "\n",
    "- `hits (Optional[Hits])`: An instance of the `Hits` class, required if `tracks_hdf5` is not provided.\n",
    "\n",
    "- `output_dir (Optional[str])`: Directory to save Tracking attributes.\n",
    "\n",
    "- `tracks_hdf5 (Optional[str])`: Path to an HDF5 file with previously saved Tracking data.\n",
    "\n",
    "- `tracks_df (Optional[pd.DataFrame])`: Pandas DataFrame with previously saved Tracking data.\n",
    "\n",
    "\n",
    "- `measurement_type (Optional[str])`: Type of measurement campaign, either 'absorption' or 'freesky'."
   ]
  },
  {
   "cell_type": "markdown",
   "metadata": {},
   "source": [
    "## **I - Data Handling and Initialization**\n",
    "\n",
    "### **A - Load from Hits**\n",
    "\n",
    "First, let's get the muon hits using the `Hits` class, as demonstrated in tutorial 01."
   ]
  },
  {
   "cell_type": "code",
   "execution_count": null,
   "metadata": {},
   "outputs": [],
   "source": [
    "csv_file = '../muograph/data/iron_barrel/barrel_and_cubes_scattering.csv'\n",
    "\n",
    "from muograph.hits.hits import Hits\n",
    "\n",
    "hits = Hits(\n",
    "    csv_filename = csv_file,  # The csv file\n",
    "    plane_labels = (0, 1, 2),  # Include hits from first planes 0, 1 and 2\n",
    "    input_unit = \"mm\",  # The distance unit in the csv file.\n",
    "    spatial_res = (1.0, 1.0, 0.),  # The spatial resolution along x, y and z in mm.\n",
    "    efficiency = 0.90,\n",
    ")\n",
    "\n",
    "hits"
   ]
  },
  {
   "cell_type": "code",
   "execution_count": null,
   "metadata": {},
   "outputs": [],
   "source": [
    "from muograph.tracking.tracking import Tracking\n",
    "\n",
    "tracking = Tracking(\n",
    "    label = \"above\", # The position of the hits relative to the passive volume \n",
    "    hits = hits, # Instance of the Hits clas\n",
    "    output_dir=\"../output_test/\", # Output directory where to save the tracks\n",
    ")\n",
    "\n",
    "tracking"
   ]
  },
  {
   "cell_type": "markdown",
   "metadata": {},
   "source": [
    "As the `output_dir` argument was provided, the tracking features are automatially saved in a **hdf5 file** named `tracks_above.hdf5` located at `output_dir`.\n",
    "\n",
    "### **B - Load from hdf5**\n",
    "\n",
    "The **hdf5 file** can be used to **instanciate** the class:"
   ]
  },
  {
   "cell_type": "code",
   "execution_count": null,
   "metadata": {},
   "outputs": [],
   "source": [
    "tracks_hdf5 = \"../output_test/tracks_above.hdf5\"\n",
    "\n",
    "tracking = Tracking(label=\"above\", tracks_hdf5=tracks_hdf5)\n",
    "tracking"
   ]
  },
  {
   "cell_type": "markdown",
   "metadata": {},
   "source": [
    "Additionnaly, the main tracking features can be converted to a Pandas dataframe:"
   ]
  },
  {
   "cell_type": "code",
   "execution_count": null,
   "metadata": {},
   "outputs": [],
   "source": [
    "tracking.df"
   ]
  },
  {
   "cell_type": "markdown",
   "metadata": {},
   "source": [
    "And can be easily be saved to a csv:"
   ]
  },
  {
   "cell_type": "code",
   "execution_count": null,
   "metadata": {},
   "outputs": [],
   "source": [
    "tracking.df.to_csv(\"../output_test/tracks_above.csv\")"
   ]
  },
  {
   "cell_type": "markdown",
   "metadata": {},
   "source": [
    "### **C - Load from DataFrame**\n",
    "\n",
    "A Pandas DataFrame can be used to **instanciate** the class:"
   ]
  },
  {
   "cell_type": "code",
   "execution_count": null,
   "metadata": {},
   "outputs": [],
   "source": [
    "import pandas as pd\n",
    "tracks_df = pd.read_csv(\"../output_test/tracks_above.csv\")"
   ]
  },
  {
   "cell_type": "code",
   "execution_count": null,
   "metadata": {},
   "outputs": [],
   "source": [
    "from muograph.tracking.tracking import Tracking\n",
    "tracking = Tracking(label=\"above\", tracks_df=tracks_df)\n",
    "\n",
    "tracking"
   ]
  },
  {
   "cell_type": "markdown",
   "metadata": {},
   "source": [
    "## **II - Track reconstruction**\n",
    "\n",
    "### **A - Linear fit of muon hits**"
   ]
  },
  {
   "cell_type": "markdown",
   "metadata": {},
   "source": [
    "The `Tracking` class first computes the muon tracks (`tracks`) as well as a point on that tracks (`points`) by fitting the muon hits (`Hits.reco_hits`).\n",
    "\n",
    "The reconstructed hits are plugged into a **linear fit** to compute a track $T(p_x, p_y, p_z)$ and a **point** on that track $P(x, y, z)$. This proceedure is handeled by the `Tracking.get_tracks_points_from_hits()` method.\n",
    "\n",
    "These features will  used by the various reconstruction algorithms."
   ]
  },
  {
   "cell_type": "code",
   "execution_count": null,
   "metadata": {},
   "outputs": [],
   "source": [
    "from muograph.tracking.tracking import Tracking\n",
    "\n",
    "tracking = Tracking(\n",
    "    label = \"above\", # The position of the hits relative to the passive volume \n",
    "    hits = hits, # Instance of the Hits clas\n",
    "    output_dir=\"../output_test/\", # Output directory where to save the tracks\n",
    ")\n",
    "\n",
    "tracking"
   ]
  },
  {
   "cell_type": "code",
   "execution_count": null,
   "metadata": {},
   "outputs": [],
   "source": [
    "# Choose a random event\n",
    "import numpy as np\n",
    "event = np.random.randint(tracking.n_mu)\n",
    "\n",
    "# Plot tracking\n",
    "tracking.plot_tracking_event(\n",
    "    event = event,\n",
    "    proj=\"XZ\",\n",
    "    figname=\"../output_test/Tracking_plot\", \n",
    "    hits=hits)"
   ]
  },
  {
   "cell_type": "code",
   "execution_count": null,
   "metadata": {},
   "outputs": [],
   "source": [
    "f\"Muon #{event:,d} direction px, py, pz = {tracking.tracks[event, 0]:.3f}, {tracking.tracks[event, 1]:.3f}, {tracking.tracks[event, 2]:.3f}\""
   ]
  },
  {
   "cell_type": "code",
   "execution_count": null,
   "metadata": {},
   "outputs": [],
   "source": [
    "f\"Muon #{event:,d} position x, y, z = {tracking.points[event, 0]:.3f}, {tracking.points[event, 1]:.3f}, {tracking.points[event, 2]:.3f} [mm]\""
   ]
  },
  {
   "cell_type": "markdown",
   "metadata": {},
   "source": [
    "### **B - Angles**"
   ]
  },
  {
   "cell_type": "markdown",
   "metadata": {},
   "source": [
    "From the *tracks* are computed the **muon zenith angle** $\\theta$, defined as the angle between the vertical axis and the muon track.\n",
    "\n",
    "$$\n",
    "\\theta = \\pi - atan\\left(\\frac{\\sqrt{px^2 + py^2}}{pz}\\right)\n",
    "$$\n",
    "\n",
    "A **vertical muon** has $\\theta = 0^{\\circ} deg$ and a **horizontal muon** has $\\theta = 90^{\\circ} deg$."
   ]
  },
  {
   "cell_type": "code",
   "execution_count": null,
   "metadata": {},
   "outputs": [],
   "source": [
    "f\"Muon #{event} has zenith angle = {tracking.theta[event]:.3f} [rad]\""
   ]
  },
  {
   "cell_type": "markdown",
   "metadata": {},
   "source": [
    "The zenith angle projections in the $XZ$  and $YZ$ ($\\theta_x$ and $\\theta_y$ respectively) are also computed:"
   ]
  },
  {
   "cell_type": "code",
   "execution_count": null,
   "metadata": {},
   "outputs": [],
   "source": [
    "(\n",
    "    f\"Muon #{event} zenith angle XZ projection = {tracking.theta_xy[0, event]:.3f} [rad]\",\n",
    "    f\"Muon #{event} zenith angle YZ projection = {tracking.theta_xy[1, event]:.3f} [rad]\",\n",
    "    )"
   ]
  },
  {
   "cell_type": "markdown",
   "metadata": {},
   "source": [
    "The **zenith angle** and **energy distributions** can be **plotted** using the `plot_muon_features` function. \n",
    "\n",
    "If a file name is provided as `figname`, the **figure** is **saved** as the desired location."
   ]
  },
  {
   "cell_type": "code",
   "execution_count": null,
   "metadata": {},
   "outputs": [],
   "source": [
    "path = \"../output_test/\"\n",
    "name = \"Energy_theta_plot\"\n",
    "tracking.plot_muon_features(figname=path+name)"
   ]
  },
  {
   "cell_type": "markdown",
   "metadata": {},
   "source": [
    "## **III - Resolution and efficiency**\n",
    "\n",
    "### **A - Angular resolution**\n",
    "\n",
    "The `Tracking` class **computes** the **angular resolution** of the muon batch by comparing the $\\theta$ values obtained from the **true** hits (`Hits.gen_hits`) and the **reconstructed** hits (`Hits.reco_hits`).\n",
    "\n",
    "This process is handled by the `get_angular_error()` method.\n",
    "\n",
    "First, the **error** on **zenith angle** $\\delta\\theta$ is computed as:\n",
    "\n",
    "$$\n",
    "\\delta\\theta = \\theta_{\\mathrm{true}} - \\theta_{\\mathrm{reco}}\n",
    "$$\n",
    "\n",
    "Then , the **angular resolution** $\\sigma_\\theta$ is computed as the standard deviation of the $\\delta\\theta$ distribution:\n",
    "\n",
    "$$\n",
    "\\sigma_\\theta = std(\\delta\\theta)\n",
    "$$\n",
    "\n",
    "If `gen_hits` and `reco_hits` are identical, the angular resolution is set to 0."
   ]
  },
  {
   "cell_type": "markdown",
   "metadata": {},
   "source": [
    "The **angular error** $\\delta\\theta$ can be plotted using the `plot_angular_error` function:"
   ]
  },
  {
   "cell_type": "code",
   "execution_count": null,
   "metadata": {},
   "outputs": [],
   "source": [
    "path = \"../output_test/\"\n",
    "name = \"Angular_error_plot\"\n",
    "tracking.plot_angular_error(figname=path+name)"
   ]
  },
  {
   "cell_type": "markdown",
   "metadata": {},
   "source": [
    "### **B - Efficiency**\n",
    "\n",
    "The track efficiency `tracks_eff` is computed from the hits efficiency `Hits.hits_eff`.\n",
    "\n",
    "\n",
    " If all hits from a track have `hits_eff`  = 1, `tracks_eff` is set to 1. Else, `tracks_eff` is set to zero."
   ]
  },
  {
   "cell_type": "code",
   "execution_count": null,
   "metadata": {},
   "outputs": [],
   "source": [
    "import seaborn as sns\n",
    "import matplotlib.pyplot as plt\n",
    "import torch\n",
    "\n",
    "fig, ax = plt.subplots()\n",
    "sns.histplot(tracking.tracks_eff if tracking.tracks_eff.device == torch.device(\"cpu\") else tracking.tracks_eff.cpu(), ax=ax)\n",
    "ax.set_xlabel(\"tracks efficiency\")\n",
    "ax.set_ylabel(\"Frequency [a.u]\")\n",
    "plt.show()"
   ]
  },
  {
   "cell_type": "markdown",
   "metadata": {},
   "source": [
    "Assuming that only events leaving a hit in all detector panels are recorded, the **expected tracking efficiency** $\\epsilon_{track}$ depends on the detector panel efficiency $\\epsilon_{hits}$ and the number of panels $N_{panels}$:\n",
    "\n",
    "$$\n",
    "\\epsilon_{track} = \\epsilon_{track} ^ {N_{panels}}\n",
    "$$\n",
    "\n",
    "\n",
    "The **tracking efficiency** `Tracking.tracking_eff` is defined as the number of recorded tracks over the total number of tracks.\n",
    "\n",
    "As expected, both efficiencies are matching:"
   ]
  },
  {
   "cell_type": "code",
   "execution_count": null,
   "metadata": {},
   "outputs": [],
   "source": [
    "n_detected_tracks = tracking.tracks_eff.sum().detach().cpu().numpy()\n",
    "\n",
    "expected_tracking_efficiency = hits.efficiency ** hits.n_panels\n",
    "(\n",
    "    f\"Effective tracking efficiency = {tracking.tracking_eff*100:.2f} %, \"\n",
    "    f\"Expected tracking efficiency = {expected_tracking_efficiency*100:.2f} %\"\n",
    ")"
   ]
  },
  {
   "cell_type": "code",
   "execution_count": null,
   "metadata": {},
   "outputs": [],
   "source": []
  }
 ],
 "metadata": {
  "kernelspec": {
   "display_name": "Python 3 (ipykernel)",
   "language": "python",
   "name": "python3"
  },
  "language_info": {
   "codemirror_mode": {
    "name": "ipython",
    "version": 3
   },
   "file_extension": ".py",
   "mimetype": "text/x-python",
   "name": "python",
   "nbconvert_exporter": "python",
   "pygments_lexer": "ipython3",
   "version": "3.10.16"
  }
 },
 "nbformat": 4,
 "nbformat_minor": 2
}
