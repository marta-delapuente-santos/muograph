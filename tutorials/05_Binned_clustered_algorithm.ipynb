{
 "cells": [
  {
   "cell_type": "code",
   "execution_count": null,
   "metadata": {},
   "outputs": [],
   "source": [
    "path_to_muograph = \"../\"\n",
    "import sys\n",
    "sys.path.insert(1, path_to_muograph)"
   ]
  },
  {
   "cell_type": "markdown",
   "metadata": {},
   "source": [
    "![alternative text](../images/muograph_logo.png)\n",
    "\n",
    "\n",
    "**<h1><center>Binned Clustered Algorithm: tutorial</center></h1>**\n",
    "\n",
    "The `BCA` class is used to compute voxelized **scattering density predictions** based on the **Binned Clustered Algorithm** (A binned clustering algorithm  to detect high-Z material using cosmic muons, 2013 JINST 8 P10013, (http://iopscience.iop.org/1748-0221/8/10/P10013))\n",
    "\n",
    "### **I - Initialization** \n",
    "\n",
    "First, let's instanciante the `TrackingMST` class. At first, we will consider a detector with perfect **spatial resolution** and **efficiency**:"
   ]
  },
  {
   "cell_type": "code",
   "execution_count": null,
   "metadata": {},
   "outputs": [],
   "source": [
    "csv_file = '../muograph/data/iron_barrel/barrel_and_cubes_scattering.csv'\n",
    "\n",
    "from muograph.hits.hits import Hits\n",
    "\n",
    "hits_in = Hits(\n",
    "    csv_filename = csv_file,  # The csv file\n",
    "    plane_labels = (0, 1, 2),  # Include hits from first planes 0, 1 and 2\n",
    "    input_unit = \"mm\",  # The distance unit in the csv file.\n",
    ")\n",
    "hits_out = Hits(\n",
    "    csv_filename = csv_file,  # The csv file\n",
    "    plane_labels = (3, 4, 5),  # Include hits from first planes 0, 1 and 2\n",
    "    input_unit = \"mm\",  # The distance unit in the csv file.\n",
    ")\n",
    "\n",
    "hits_in, hits_out"
   ]
  },
  {
   "cell_type": "code",
   "execution_count": null,
   "metadata": {},
   "outputs": [],
   "source": [
    "from muograph.tracking.tracking import Tracking\n",
    "\n",
    "tracks_in = Tracking(label=\"above\", hits=hits_in)\n",
    "tracks_out = Tracking(label=\"below\", hits=hits_out)\n",
    "\n",
    "tracks_in, tracks_out\n"
   ]
  },
  {
   "cell_type": "code",
   "execution_count": null,
   "metadata": {},
   "outputs": [],
   "source": [
    "output_dir = \"../output_test/\"\n",
    "from muograph.tracking.tracking import TrackingMST\n",
    "mst = TrackingMST(trackings=(tracks_in, tracks_out))\n",
    "mst"
   ]
  },
  {
   "cell_type": "markdown",
   "metadata": {},
   "source": [
    "The `BCA` class takes the following **arguments**:\n",
    "\n",
    "\n",
    "- `tracking (Optional[TrackingMST])`: Instance of the TrackingMST class.\n",
    "\n",
    "- `voi (Volume)`: Instance of the Volume class.\n",
    "\n",
    "- `output_dir (Optional[str])`: Path to a directory where to save POCA attributes in a hdf5 file."
   ]
  },
  {
   "cell_type": "code",
   "execution_count": null,
   "metadata": {},
   "outputs": [],
   "source": [
    "from muograph.volume.volume import Volume\n",
    "voi = Volume(\n",
    "    position = (0, 0, -1200), # The position of the Volume of interest.\n",
    "    dimension = (1000, 600, 600), # The dimensions of the Volume of interest.\n",
    "    voxel_width = 20) # The voxel size."
   ]
  },
  {
   "cell_type": "code",
   "execution_count": null,
   "metadata": {},
   "outputs": [],
   "source": [
    "from muograph.reconstruction.binned_clustered import BCA\n",
    "bca = BCA(tracking=mst, voi=voi, output_dir=\"../output_test/\")"
   ]
  },
  {
   "cell_type": "markdown",
   "metadata": {},
   "source": [
    "### I - **BCA scattering density predictions**\n",
    "\n",
    "The **BCA algorithm** is designed to compute voxel-wize **scattering density predictions**, using **POCA**, **scattering angle** and muon **momentum** information (if available)."
   ]
  },
  {
   "cell_type": "markdown",
   "metadata": {},
   "source": [
    "**Initialization:**\n",
    "\n",
    " - Associate an **empty list** $L$ to **each voxel**.\n",
    "\n",
    " - **Filters out** muons with **scattering angle** $\\delta\\theta$ outside of the desired range `dtheta_range`.\n",
    "\n",
    " - **Filters out** muons with **momentum** $p$ outside of the desired range `momentum_range` (if momentum is available).\n",
    "\n",
    "**Voxel scan:**\n",
    "\n",
    "- For each voxel $v$:\n",
    "  - Only keep the POCA points having the $N_{max}$ largest scattering angles (`n_max_per_vox`).\n",
    "  - If the number of POCA points in $v$ is greater than $N_{min}$ (`n_min_per_vox`):\n",
    "    - For each **pair** of **POCA** points $i, j$ in $v$:\n",
    "      - Computes $m_{ij} = \\frac{d_{ij}}{(\\Delta\\theta_i p_i) * (\\Delta\\theta_j p_j)}$, where $d_{ij}$ is the geometrical distance between the POCA $_i$ and POCA $_j$, $\\Delta\\theta$ the scattering angle and $p$ the momentum.\n",
    "      - Append $f(m_{ij})$ to the voxel's list $L_v$, where $f$ is the `metric_method` function (natural $log$ by default).\n",
    "  - Else append 0 to $L_v$.\n",
    "\n",
    "**At the end of the scan**\n",
    "\n",
    "For each voxel $v$:\n",
    "\n",
    "- Computes the **final** voxel's **score** $S_v$ as a function of the voxel's list $L_v$: $S_v = g(L_v)$, where $g$ is the `score_method`. By default, $g$  the **median function**. "
   ]
  },
  {
   "cell_type": "code",
   "execution_count": null,
   "metadata": {},
   "outputs": [],
   "source": [
    "bca.bca_params"
   ]
  },
  {
   "cell_type": "markdown",
   "metadata": {},
   "source": [
    "Similarly to `POCA.n_poca_per_vox`, the BCA scattering density predictions `BCA.xyz_voxel_pred` is a  $(n_x, n_y, n_z)$ array of `floats`, where $n_i$ is the number of voxels along the $i$ direction."
   ]
  },
  {
   "cell_type": "code",
   "execution_count": null,
   "metadata": {},
   "outputs": [],
   "source": [
    "bca.xyz_voxel_pred, bca.xyz_voxel_pred.shape"
   ]
  },
  {
   "cell_type": "markdown",
   "metadata": {},
   "source": [
    "Let's have a look at the BCA scattering density predictions. They are stored in the `BCA.xyz_voxel_pred` feature."
   ]
  },
  {
   "cell_type": "code",
   "execution_count": null,
   "metadata": {},
   "outputs": [],
   "source": [
    "from muograph.plotting.plotting import plot_hist\n",
    "plot_hist(bca.xyz_voxel_pred.ravel(), xlabel=\"BCA score [a.u]\", logy=True)"
   ]
  },
  {
   "cell_type": "markdown",
   "metadata": {},
   "source": [
    "As the `BCA` class also **inherits** from the `VoxelPlotting` class, it comes with dedicated methods to **plot voxelized data**."
   ]
  },
  {
   "cell_type": "code",
   "execution_count": null,
   "metadata": {},
   "outputs": [],
   "source": [
    "# Choose a dimension to project along (0 = x, 1 = y, 2 = z)\n",
    "dim = 2 \n",
    "\n",
    "bca.plot_pred_slice(\n",
    "    voi=voi,  # The volume of interest\n",
    "    xyz_voxel_preds=bca.xyz_voxel_pred,  # The voxelized predictions to plot\n",
    "    voi_slice=(0, voi.n_vox_xyz[dim]-1), # Choose a range of voxels to plot along the desired direction\n",
    "    dim = dim, # The dimension to project along\n",
    "    figname = \"../output_test/bca_default_preds_all_volume\", # The name of the figure to save\n",
    "    pred_label=\"BCA score\",\n",
    "    pred_unit=\"\\n[a.u]\",\n",
    ")"
   ]
  },
  {
   "cell_type": "code",
   "execution_count": null,
   "metadata": {},
   "outputs": [],
   "source": [
    "# Choose a dimension to project along (0 = x, 1 = y, 2 = z)\n",
    "dim = 1\n",
    "\n",
    "bca.plot_pred_slice(\n",
    "    voi=voi,  # The volume of interest\n",
    "    xyz_voxel_preds=bca.xyz_voxel_pred,  # The voxelized predictions to plot\n",
    "    voi_slice=(0, voi.n_vox_xyz[dim]-1), # Choose a range of voxels to plot along the desired direction\n",
    "    dim = dim, # The dimension to project along\n",
    "    figname = \"../output_test/bca_default_preds_all_volume\", # The name of the figure to save\n",
    "    pred_label=\"BCA score\",\n",
    "    pred_unit=\"\\n[a.u]\",\n",
    ")"
   ]
  },
  {
   "cell_type": "code",
   "execution_count": null,
   "metadata": {},
   "outputs": [],
   "source": [
    "# Choose a dimension to project along (0 = x, 1 = y, 2 = z)\n",
    "dim = 0\n",
    "\n",
    "bca.plot_pred_slice(\n",
    "    voi=voi,  # The volume of interest\n",
    "    xyz_voxel_preds=bca.xyz_voxel_pred,  # The voxelized predictions to plot\n",
    "    voi_slice=(0, voi.n_vox_xyz[dim]-1), # Choose a range of voxels to plot along the desired direction\n",
    "    dim = dim, # The dimension to project along\n",
    "    figname = \"../output_test/bca_default_preds_all_volume\", # The name of the figure to save\n",
    "    pred_label=\"BCA score\",\n",
    "    pred_unit=\"\\n[a.u]\",\n",
    ")"
   ]
  },
  {
   "cell_type": "code",
   "execution_count": null,
   "metadata": {},
   "outputs": [],
   "source": [
    "# Choose a dimension to project along (0 = x, 1 = y, 2 = z)\n",
    "dim = 2\n",
    "\n",
    "bca.plot_pred_by_slice(\n",
    "    voi=voi, # The volume of interest\n",
    "    xyz_voxel_preds=bca.xyz_voxel_pred,  # The voxelized predictions to plot\n",
    "    voi_slice=(0, voi.n_vox_xyz[dim]-1), # Choose a range of voxels to plot along the desired direction\n",
    "    dim=dim,  # The dimension to project along\n",
    "    nslice_per_plot=2, # The number of slice per plot\n",
    "    ncols=4, # The number of columns of the plot\n",
    "    pred_unit=\"[a.u]\",\n",
    "    pred_label=\"BCA score\",\n",
    "    figname = \"../output_test/bca_default_preds_slice\"\n",
    ")\n"
   ]
  },
  {
   "cell_type": "code",
   "execution_count": null,
   "metadata": {},
   "outputs": [],
   "source": [
    "# Choose a dimension to project along (0 = x, 1 = y, 2 = z)\n",
    "dim = 1\n",
    "\n",
    "bca.plot_pred_by_slice(\n",
    "    voi=voi, # The volume of interest\n",
    "    xyz_voxel_preds=bca.xyz_voxel_pred,  # The voxelized predictions to plot\n",
    "    voi_slice=(0, voi.n_vox_xyz[dim]-1), # Choose a range of voxels to plot along the desired direction\n",
    "    dim=dim,  # The dimension to project along\n",
    "    nslice_per_plot=2, # The number of slice per plot\n",
    "    ncols=4, # The number of columns of the plot\n",
    "    pred_unit=\"[a.u]\",\n",
    "    pred_label=\"BCA score\",\n",
    "    figname = \"../output_test/bca_default_preds_slice\"\n",
    ")"
   ]
  },
  {
   "cell_type": "code",
   "execution_count": null,
   "metadata": {},
   "outputs": [],
   "source": [
    "# Choose a dimension to project along (0 = x, 1 = y, 2 = z)\n",
    "dim = 0\n",
    "\n",
    "bca.plot_pred_by_slice(\n",
    "    voi=voi, # The volume of interest\n",
    "    xyz_voxel_preds=bca.xyz_voxel_pred,  # The voxelized predictions to plot\n",
    "    voi_slice=(0, voi.n_vox_xyz[dim]-1), # Choose a range of voxels to plot along the desired direction\n",
    "    dim=dim,  # The dimension to project along\n",
    "    nslice_per_plot=2, # The number of slice per plot\n",
    "    ncols=4, # The number of columns of the plot\n",
    "    pred_unit=\"[a.u]\",\n",
    "    pred_label=\"BCA score\",\n",
    "    figname = \"../output_test/bca_default_preds_slice\"\n",
    ")\n"
   ]
  },
  {
   "cell_type": "markdown",
   "metadata": {},
   "source": [
    "The **parameters** of the **algorithm** are stored in the `bca_params` attribute:"
   ]
  },
  {
   "cell_type": "code",
   "execution_count": null,
   "metadata": {},
   "outputs": [],
   "source": [
    "bca.bca_params"
   ]
  },
  {
   "cell_type": "markdown",
   "metadata": {},
   "source": [
    "If the parameters of the algo. are modified, the `xyz_voxel_pred` are automatically re-computed.\n",
    "\n",
    "Let's set the `use_p` parameter to `True`, and **use** the **momentum information** in the **computation** of the scattering density **predictions**."
   ]
  },
  {
   "cell_type": "code",
   "execution_count": null,
   "metadata": {},
   "outputs": [],
   "source": [
    "from functools import partial\n",
    "import torch\n",
    "import math\n",
    "\n",
    "bca.bca_params = {\n",
    "    \"n_max_per_vox\": 50,\n",
    "    \"n_min_per_vox\": 2,\n",
    "    \"score_method\": partial(torch.quantile, q=0.7),\n",
    "    \"metric_method\": partial(torch.log), \n",
    "    \"p_range\": (0.0, 10_000_000),  # MeV\n",
    "    \"dtheta_range\": (0.1 * math.pi / 180, math.pi / 3),\n",
    "    \"use_p\": True,\n",
    "    }"
   ]
  },
  {
   "cell_type": "markdown",
   "metadata": {},
   "source": [
    "Let's have a look at the new predictions:"
   ]
  },
  {
   "cell_type": "code",
   "execution_count": null,
   "metadata": {},
   "outputs": [],
   "source": [
    "from muograph.plotting.plotting import plot_hist\n",
    "plot_hist(bca.xyz_voxel_pred.ravel(), xlabel=\"BCA score [a.u]\", logy=True)"
   ]
  },
  {
   "cell_type": "code",
   "execution_count": null,
   "metadata": {},
   "outputs": [],
   "source": [
    "dim = 2\n",
    "\n",
    "bca.plot_pred_by_slice(\n",
    "    voi=voi, # The volume of interest\n",
    "    xyz_voxel_preds=bca.xyz_voxel_pred,  # The voxelized predictions to plot\n",
    "    voi_slice=(0, voi.n_vox_xyz[dim]-1), # Choose a range of voxels to plot along the desired direction\n",
    "    dim=dim,  # The dimension to project along\n",
    "    nslice_per_plot=2, # The number of slice per plot\n",
    "    ncols=4, # The number of columns of the plot\n",
    "    pred_unit=\"[a.u]\",\n",
    "    pred_label=\"BCA score\",\n",
    "    reverse=True, # Reverse color scale\n",
    "    figname = \"../output_test/bca_default_preds_use_p_slice\"\n",
    ")"
   ]
  },
  {
   "cell_type": "code",
   "execution_count": null,
   "metadata": {},
   "outputs": [],
   "source": [
    "# Choose a dimension to project along (0 = x, 1 = y, 2 = z)\n",
    "dim = 2 \n",
    "\n",
    "bca.plot_pred_slice(\n",
    "    voi=voi,  # The volume of interest\n",
    "    xyz_voxel_preds=bca.xyz_voxel_pred,  # The voxelized predictions to plot\n",
    "    voi_slice=(0, voi.n_vox_xyz[dim]-1), # Choose a range of voxels to plot along the desired direction\n",
    "    dim = dim, # The dimension to project along\n",
    "    figname = \"../output_test/bca_default_preds_use_p_all_volume\", # The name of the figure to save\n",
    "    pred_label=\"BCA score\",\n",
    "    pred_unit=\"\\n[a.u]\",\n",
    "    reverse=True\n",
    ")"
   ]
  },
  {
   "cell_type": "code",
   "execution_count": null,
   "metadata": {},
   "outputs": [],
   "source": []
  }
 ],
 "metadata": {
  "kernelspec": {
   "display_name": "Python 3 (ipykernel)",
   "language": "python",
   "name": "python3"
  },
  "language_info": {
   "codemirror_mode": {
    "name": "ipython",
    "version": 3
   },
   "file_extension": ".py",
   "mimetype": "text/x-python",
   "name": "python",
   "nbconvert_exporter": "python",
   "pygments_lexer": "ipython3",
   "version": "3.10.16"
  }
 },
 "nbformat": 4,
 "nbformat_minor": 2
}
