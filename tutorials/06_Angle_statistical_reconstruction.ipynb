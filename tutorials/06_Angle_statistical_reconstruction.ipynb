{
 "cells": [
  {
   "cell_type": "code",
   "execution_count": null,
   "metadata": {},
   "outputs": [],
   "source": [
    "path_to_muograph = \"../\"\n",
    "import sys\n",
    "sys.path.insert(1, path_to_muograph)\n",
    "\n",
    "%reload_ext autoreload\n",
    "%autoreload 2"
   ]
  },
  {
   "cell_type": "markdown",
   "metadata": {},
   "source": [
    "![alternative text](../images/muograph_logo.png)\n",
    "\n",
    "\n",
    "**<h1><center>Angle Statistic Reconstruction Algorithm: tutorial</center></h1>**\n",
    "\n",
    "The `ASR` class is used to compute voxelized **scattering density predictions** through the Angle Statistic Reconstruction Algorithm, (*Angle Statistics Reconstruction: a robust reconstruction algorithm for Muon Scattering Tomography*, M. Stapleton et al 2014 JINST 9 P11019, https://iopscience.iop.org/article/10.1088/1748-0221/9/11/P11019). \n",
    "\n",
    "**SUMMARY**\n",
    "\n",
    "1. *Initialization*: \n",
    "    - Sets up the instance with the `Volume` and `TrackingMST` objects. Handles saving or loading voxel data (using HDF5 files).\n",
    "  \n",
    "2. *Voxel Operations*:\n",
    "    - Calculate **positions** of **muons entering** and **exiting** the volume (`_compute_xyz_in_out`).\n",
    "    - **Discretize** muon **tracks** into **points** within the volume (`_compute_discrete_tracks`).\n",
    "    - Find sub-volumes intersected by muon tracks (_find_sub_volume).\n",
    "    - Identify **triggered voxels** along the muon paths (`_find_triggered_voxels`).\n",
    "\n",
    "3. *Saving/Loading*:\n",
    "    - Triggered voxel data is **saved** and **loaded** as HDF5 files for efficiency.\n",
    "\n",
    "4. *Prediction*:\n",
    "   - **Scattering density predictions** for each voxel are computed based on specified scoring metrics (get_xyz_voxel_pred).\n"
   ]
  },
  {
   "cell_type": "markdown",
   "metadata": {},
   "source": [
    "## **I - Initialization**\n",
    "\n",
    "The `ASR` class takes the following arguments:\n",
    "\n",
    "- `tracking (Optional[TrackingMST])`: IThe muon tracks, as an instance of the `TrackingMST` class.\n",
    "- `voi (Volume)`: The volume of interest, as an instance of the `Volume` class.\n",
    "\n",
    "- `output_dir (Optional[str])`: Path to a directory where to save the triggered voxels as a hdf5 file.\n",
    "\n",
    "- `triggered_vox_file (Optional[str])`: Path to a hdf5 file where to load the triggered voxels from. Defaults to None. "
   ]
  },
  {
   "cell_type": "code",
   "execution_count": null,
   "metadata": {},
   "outputs": [],
   "source": [
    "csv_file = '../muograph/data/iron_barrel/barrel_and_cubes_scattering.csv'\n",
    "\n",
    "from muograph.hits.hits import Hits\n",
    "\n",
    "hits_in = Hits(\n",
    "    csv_filename = csv_file,  # The csv file\n",
    "    plane_labels = (0, 1, 2),  # Include hits from first planes 0, 1 and 2\n",
    "    input_unit = \"mm\",  # The distance unit in the csv file.\n",
    ")\n",
    "hits_out = Hits(\n",
    "    csv_filename = csv_file,  # The csv file\n",
    "    plane_labels = (3, 4, 5),  # Include hits from first planes 0, 1 and 2\n",
    "    input_unit = \"mm\",  # The distance unit in the csv file.\n",
    ")\n"
   ]
  },
  {
   "cell_type": "code",
   "execution_count": null,
   "metadata": {},
   "outputs": [],
   "source": [
    "from muograph.tracking.tracking import Tracking\n",
    "\n",
    "tracks_in = Tracking(label=\"above\", hits=hits_in)\n",
    "tracks_out = Tracking(label=\"below\", hits=hits_out)"
   ]
  },
  {
   "cell_type": "code",
   "execution_count": null,
   "metadata": {},
   "outputs": [],
   "source": [
    "from muograph.tracking.tracking import TrackingMST\n",
    "\n",
    "mst = TrackingMST(trackings=(tracks_in, tracks_out))"
   ]
  },
  {
   "cell_type": "code",
   "execution_count": null,
   "metadata": {},
   "outputs": [],
   "source": [
    "from muograph.volume.volume import Volume\n",
    "voi = Volume(\n",
    "    position = (0, 0, -1200), # The position of the Volume of interest.\n",
    "    dimension = (900, 600, 600), # The dimensions of the Volume of interest.\n",
    "    voxel_width = 30) # The voxel size."
   ]
  },
  {
   "cell_type": "code",
   "execution_count": null,
   "metadata": {},
   "outputs": [],
   "source": [
    "output_dir = \"../output_test/\"\n",
    "\n",
    "from muograph.reconstruction.asr import ASR\n",
    "asr = ASR(voi=voi, tracking=mst, output_dir=output_dir)"
   ]
  },
  {
   "cell_type": "code",
   "execution_count": null,
   "metadata": {},
   "outputs": [],
   "source": [
    "asr"
   ]
  },
  {
   "cell_type": "markdown",
   "metadata": {},
   "source": [
    "## **II - Voxel operations**\n"
   ]
  },
  {
   "cell_type": "markdown",
   "metadata": {},
   "source": [
    "The **ASR algorithm** is designed to compute voxel-wize **scattering density predictions**, based on muon **tracks**, **scattering angle** and **momentum** information (if available)."
   ]
  },
  {
   "cell_type": "markdown",
   "metadata": {},
   "source": [
    "**Initialization:**\n",
    "\n",
    " - Associate an **empty list** $L$ to **each voxel**.\n",
    "\n",
    " - **Filters out** muons with **scattering angle** $\\delta\\theta$ outside of the desired range `dtheta_range`.\n",
    "\n",
    " - **Filters out** muons with **momentum** $p$ outside of the desired range `momentum_range` (if momentum is available).\n",
    "\n",
    "**Voxel triggering:**\n",
    "- For each muon track:\n",
    "  - Identify which **voxels** get **traversed** by **both** the **incoming** and **outgoing tracks**, and save their indices ($i_x, i_y, i_z$) as a list of arrays: `ASR.triggered_voxels`.\n",
    "\n",
    "**Muon scan:**\n",
    "- For muon event with scattering angle $\\Delta\\theta$:\n",
    "    - Append a score $s$ to the list of all voxels triggered by the muon. By default, the score is simply $\\Delta\\theta$. If momentum is available, $S = \\mathrm{log}(\\Delta\\theta * p)$\n",
    "\n",
    "**At the end of the scan**\n",
    "\n",
    " - For each voxel $v$:\n",
    "\n",
    "- Computes the **final** voxel's **score** $S_v$ as a function of the voxel's list $L_v$: $S_v = g(L_v)$, where $g$ is the `score_method`. By default, $g$  the **median function**. "
   ]
  },
  {
   "cell_type": "markdown",
   "metadata": {},
   "source": [
    "#### **Voxel triggering**\n",
    "\n",
    "The voxel triggering is done when the class is instanciated.\n",
    "\n",
    "First, **positions** of **muons entering** and **exiting** the volume (`_compute_xyz_in_out`) get computed.\n",
    "\n",
    "The muon **tracks** get discretized into **points** within the volume (`_compute_discrete_tracks`).\n",
    "\n",
    "One finds the sub-volumes intersected by muon tracks (`_find_sub_volume`) and finally identifies **triggered voxels** along the muon paths within the sub-volumes (`_find_triggered_voxels`)."
   ]
  },
  {
   "cell_type": "code",
   "execution_count": null,
   "metadata": {},
   "outputs": [],
   "source": [
    "asr.triggered_voxels"
   ]
  },
  {
   "cell_type": "code",
   "execution_count": null,
   "metadata": {},
   "outputs": [],
   "source": [
    "event = 64\n",
    "f\"Muon #{event:,d} triggers {asr.triggered_voxels[event].shape[0]} voxels\""
   ]
  },
  {
   "cell_type": "markdown",
   "metadata": {},
   "source": [
    "A summary of the **event-wise reconstruction** can be **displayed** with the `plot_asr_event()` method: "
   ]
  },
  {
   "cell_type": "code",
   "execution_count": null,
   "metadata": {},
   "outputs": [],
   "source": [
    "asr.plot_asr_event(\n",
    "    event = event, # The event to plot \n",
    "    proj=\"XZ\",  # The projection (either XZ or YZ) \n",
    "    )"
   ]
  },
  {
   "cell_type": "markdown",
   "metadata": {},
   "source": [
    "## **III - Saving / loading triggered voxels**\n",
    "\n",
    "The **triggered voxels** are automatically saved to a **hdf5 file**, in the `output_dir` folder."
   ]
  },
  {
   "cell_type": "code",
   "execution_count": null,
   "metadata": {},
   "outputs": [],
   "source": [
    "from pathlib import Path\n",
    "Path(output_dir + \"triggered_voxels.hdf5\").exists()"
   ]
  },
  {
   "cell_type": "markdown",
   "metadata": {},
   "source": [
    "Such hdf5 file can be used to intitialize the `ASR` class. Given that finding the triggered voxels is rather computationally expensive, it can be usefull when imaging volumes with a large number of voxels."
   ]
  },
  {
   "cell_type": "code",
   "execution_count": null,
   "metadata": {},
   "outputs": [],
   "source": [
    "asr = ASR(\n",
    "    voi = voi, \n",
    "    tracking=mst, \n",
    "    output_dir=output_dir, \n",
    "    triggered_vox_file=output_dir+\"triggered_voxels.hdf5\")"
   ]
  },
  {
   "cell_type": "code",
   "execution_count": null,
   "metadata": {},
   "outputs": [],
   "source": [
    "asr"
   ]
  },
  {
   "cell_type": "code",
   "execution_count": null,
   "metadata": {},
   "outputs": [],
   "source": [
    "asr.plot_asr_event(\n",
    "    event = event, # The event to plot \n",
    "    proj=\"XZ\",  # The projection (either XZ or YZ) \n",
    "    figname= output_dir + \"asr_event_display\"\n",
    "    )"
   ]
  },
  {
   "cell_type": "markdown",
   "metadata": {},
   "source": [
    "## **IV - Predictions**\n",
    "\n",
    "\n",
    "Similarly to `BCA.xyz_voxel_pred`, the ASR scattering density predictions `ASR.xyz_voxel_pred` is a  $(n_x, n_y, n_z)$ array of `floats`, where $n_i$ is the number of voxels along the $i$ direction."
   ]
  },
  {
   "cell_type": "code",
   "execution_count": null,
   "metadata": {},
   "outputs": [],
   "source": [
    "asr.xyz_voxel_pred.size()"
   ]
  },
  {
   "cell_type": "markdown",
   "metadata": {},
   "source": [
    "The reconstruction algorithm takes the following parameters as input:\n",
    "\n",
    " - `score_method`: Computes the **final** voxel's **score** $S_v$ as a function of the voxel's list $L_v$: $S_v = g(L_v)$, where $g$ is the `score_method`. By default, $g$ is the **median function**.\n",
    "\n",
    " - `p_range`: The range of muon momentum to consider, in MeV. Muons with momentum outside of `p_range` will be discarded. $[0, 10]$ TeV by default.\n",
    "\n",
    " - `dtheta_range`: The range of scattering angles to consider, in radiants. Muons with scattering angle outside of `p_range` will be discarded. $[0, \\pi/3]$ rad by default.\n",
    "\n",
    " - `use_p`: Whether to use momentum data or not. `False` by default."
   ]
  },
  {
   "cell_type": "code",
   "execution_count": null,
   "metadata": {},
   "outputs": [],
   "source": [
    "asr.asr_params"
   ]
  },
  {
   "cell_type": "markdown",
   "metadata": {},
   "source": [
    "Let's have a look at the predictions. "
   ]
  },
  {
   "cell_type": "code",
   "execution_count": null,
   "metadata": {},
   "outputs": [],
   "source": [
    "from muograph.plotting.plotting import plot_hist\n",
    "plot_hist(asr.xyz_voxel_pred.ravel(), xlabel=\"ASR score [a.u]\", logy=True, figname= output_dir + \"asr_score\")"
   ]
  },
  {
   "cell_type": "markdown",
   "metadata": {},
   "source": [
    "Here are the **normalized predictions** computed as:\n",
    "\n",
    "$$\n",
    "pred_{norm} = \\frac{pred - pred_{min}}{pred_{max} - pred_{min}}\n",
    "$$\n"
   ]
  },
  {
   "cell_type": "code",
   "execution_count": null,
   "metadata": {},
   "outputs": [],
   "source": [
    "from muograph.plotting.plotting import plot_hist\n",
    "plot_hist(asr.xyz_voxel_pred_norm.ravel(), xlabel=\"ASR normalized score [a.u]\", logy=True)"
   ]
  },
  {
   "cell_type": "code",
   "execution_count": null,
   "metadata": {},
   "outputs": [],
   "source": [
    "# Choose a dimension to project along (0 = x, 1 = y, 2 = z)\n",
    "dim = 2 \n",
    "\n",
    "asr.plot_pred_slice(\n",
    "    voi=voi,  # The volume of interest\n",
    "    xyz_voxel_preds=asr.xyz_voxel_pred_norm,  # The voxelized predictions to plot\n",
    "    voi_slice=(0, voi.n_vox_xyz[dim]-1), # Choose a range of voxels to plot along the desired direction\n",
    "    dim = dim, # The dimension to project along\n",
    "    figname = \"../output_test/asr_default_preds_all_volume\", # The name of the figure to save\n",
    "    pred_label=\"ASR score\",\n",
    "    pred_unit=\"\\n[a.u]\",\n",
    ")"
   ]
  },
  {
   "cell_type": "code",
   "execution_count": null,
   "metadata": {},
   "outputs": [],
   "source": [
    "# Choose a dimension to project along (0 = x, 1 = y, 2 = z)\n",
    "dim = 1\n",
    "\n",
    "asr.plot_pred_slice(\n",
    "    voi=voi,  # The volume of interest\n",
    "    xyz_voxel_preds=asr.xyz_voxel_pred_norm,  # The voxelized predictions to plot\n",
    "    voi_slice=(0, voi.n_vox_xyz[dim]-1), # Choose a range of voxels to plot along the desired direction\n",
    "    dim = dim, # The dimension to project along\n",
    "    figname = \"../output_test/asr_default_preds_all_volume\", # The name of the figure to save\n",
    "    pred_label=\"ASR score\",\n",
    "    pred_unit=\"\\n[a.u]\",\n",
    ")"
   ]
  },
  {
   "cell_type": "code",
   "execution_count": null,
   "metadata": {},
   "outputs": [],
   "source": [
    "# Choose a dimension to project along (0 = x, 1 = y, 2 = z)\n",
    "dim = 0\n",
    "\n",
    "asr.plot_pred_slice(\n",
    "    voi=voi,  # The volume of interest\n",
    "    xyz_voxel_preds=asr.xyz_voxel_pred,  # The voxelized predictions to plot\n",
    "    voi_slice=(0, voi.n_vox_xyz[dim]-1), # Choose a range of voxels to plot along the desired direction\n",
    "    dim = dim, # The dimension to project along\n",
    "    figname = \"../output_test/asr_default_preds_all_volume\", # The name of the figure to save\n",
    "    pred_label=\"ASR score\",\n",
    "    pred_unit=\"\\n[a.u]\",\n",
    ")"
   ]
  },
  {
   "cell_type": "code",
   "execution_count": null,
   "metadata": {},
   "outputs": [],
   "source": [
    "dim = 2\n",
    "\n",
    "asr.plot_pred_by_slice(\n",
    "    voi=voi, # The volume of interest\n",
    "    xyz_voxel_preds=asr.xyz_voxel_pred_norm,  # The voxelized predictions to plot\n",
    "    voi_slice=(0, voi.n_vox_xyz[dim]-1), # Choose a range of voxels to plot along the desired direction\n",
    "    dim=dim,  # The dimension to project along\n",
    "    nslice_per_plot=2, # The number of slice per plot\n",
    "    ncols=4, # The number of columns of the plot\n",
    "    pred_unit=\"[a.u]\",\n",
    "    pred_label=\"ASR score\",\n",
    "    figname = \"../output_test/asr_default_preds_slice\"\n",
    ")"
   ]
  },
  {
   "cell_type": "code",
   "execution_count": null,
   "metadata": {},
   "outputs": [],
   "source": [
    "dim = 1\n",
    "\n",
    "asr.plot_pred_by_slice(\n",
    "    voi=voi, # The volume of interest\n",
    "    xyz_voxel_preds=asr.xyz_voxel_pred_norm,  # The voxelized predictions to plot\n",
    "    voi_slice=(0, voi.n_vox_xyz[dim]-1), # Choose a range of voxels to plot along the desired direction\n",
    "    dim=dim,  # The dimension to project along\n",
    "    nslice_per_plot=2, # The number of slice per plot\n",
    "    ncols=4, # The number of columns of the plot\n",
    "    pred_unit=\"[a.u]\",\n",
    "    pred_label=\"ASR score\",\n",
    "    figname = \"../output_test/asr_default_preds_slice\"\n",
    ")"
   ]
  },
  {
   "cell_type": "code",
   "execution_count": null,
   "metadata": {},
   "outputs": [],
   "source": [
    "dim = 0\n",
    "\n",
    "asr.plot_pred_by_slice(\n",
    "    voi=voi, # The volume of interest\n",
    "    xyz_voxel_preds=asr.xyz_voxel_pred_norm,  # The voxelized predictions to plot\n",
    "    voi_slice=(0, voi.n_vox_xyz[dim]-1), # Choose a range of voxels to plot along the desired direction\n",
    "    dim=dim,  # The dimension to project along\n",
    "    nslice_per_plot=2, # The number of slice per plot\n",
    "    ncols=6, # The number of columns of the plot\n",
    "    pred_unit=\"[a.u]\",\n",
    "    pred_label=\"ASR score\",\n",
    "    figname = \"../output_test/asr_default_preds_slice\"\n",
    ")"
   ]
  },
  {
   "cell_type": "markdown",
   "metadata": {},
   "source": [
    "Let's change the parameters of the algorithm and use momentum information:"
   ]
  },
  {
   "cell_type": "code",
   "execution_count": null,
   "metadata": {},
   "outputs": [],
   "source": [
    "import numpy as np\n",
    "import math\n",
    "from functools import partial\n",
    "asr.asr_params = {\n",
    "        \"score_method\": partial(np.quantile, q=0.5),\n",
    "        \"p_range\": (0.0, 10000000),  # MeV\n",
    "        \"dtheta_range\": (0.0, math.pi / 3),\n",
    "        \"use_p\": True,\n",
    "    }"
   ]
  },
  {
   "cell_type": "code",
   "execution_count": null,
   "metadata": {},
   "outputs": [],
   "source": [
    "# Choose a dimension to project along (0 = x, 1 = y, 2 = z)\n",
    "dim = 2 \n",
    "\n",
    "asr.plot_pred_slice(\n",
    "    voi=voi,  # The volume of interest\n",
    "    xyz_voxel_preds=asr.xyz_voxel_pred_norm,  # The voxelized predictions to plot\n",
    "    voi_slice=(0, voi.n_vox_xyz[dim]-1), # Choose a range of voxels to plot along the desired direction\n",
    "    dim = dim, # The dimension to project along\n",
    "    figname = \"../output_test/asr_preds_use_p_all_volume\", # The name of the figure to save\n",
    "    pred_label=\"ASR score\",\n",
    "    pred_unit=\"\\n[a.u]\",\n",
    ")"
   ]
  },
  {
   "cell_type": "code",
   "execution_count": null,
   "metadata": {},
   "outputs": [],
   "source": [
    "# Choose a dimension to project along (0 = x, 1 = y, 2 = z)\n",
    "dim = 2 \n",
    "\n",
    "asr.plot_pred_by_slice(\n",
    "    voi=voi, # The volume of interest\n",
    "    xyz_voxel_preds=asr.xyz_voxel_pred_norm,  # The voxelized predictions to plot\n",
    "    voi_slice=(0, voi.n_vox_xyz[dim]-1), # Choose a range of voxels to plot along the desired direction\n",
    "    dim=dim,  # The dimension to project along\n",
    "    nslice_per_plot=2, # The number of slice per plot\n",
    "    ncols=4, # The number of columns of the plot\n",
    "    pred_unit=\"[a.u]\",\n",
    "    pred_label=\"ASR score\",\n",
    "    figname = \"../output_test/asr_use_p_preds_slice\"\n",
    ")"
   ]
  },
  {
   "cell_type": "code",
   "execution_count": null,
   "metadata": {},
   "outputs": [],
   "source": []
  }
 ],
 "metadata": {
  "kernelspec": {
   "display_name": "Python 3 (ipykernel)",
   "language": "python",
   "name": "python3"
  },
  "language_info": {
   "codemirror_mode": {
    "name": "ipython",
    "version": 3
   },
   "file_extension": ".py",
   "mimetype": "text/x-python",
   "name": "python",
   "nbconvert_exporter": "python",
   "pygments_lexer": "ipython3",
   "version": "3.10.16"
  }
 },
 "nbformat": 4,
 "nbformat_minor": 2
}
