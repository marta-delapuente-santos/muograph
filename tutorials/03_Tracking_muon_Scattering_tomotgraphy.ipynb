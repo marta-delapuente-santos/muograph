{
 "cells": [
  {
   "cell_type": "code",
   "execution_count": null,
   "metadata": {},
   "outputs": [],
   "source": [
    "path_to_muograph = \"../\"\n",
    "import sys\n",
    "sys.path.insert(1, path_to_muograph)"
   ]
  },
  {
   "cell_type": "markdown",
   "metadata": {},
   "source": [
    "![alternative text](../images/muograph_logo.png)\n",
    "\n",
    "\n",
    "**<h1><center>Tracking: tutorial</center></h1>**\n",
    "\n",
    "The `TrackingMST` class is used to process **muon tracks** in the context of m**uon scattering tomography**. \n",
    "\n",
    "It combines the tracking **feature** of **muons** detected **before** and **after** the **volume of interest** and compute features relevant to **muon scattering tomography** reconstruction algorithms such as **scattering angle**.\n"
   ]
  },
  {
   "cell_type": "markdown",
   "metadata": {},
   "source": [
    "The initialization is done by providing 2 instances of the `Tracking` class: \n",
    "\n",
    "- The **incoming muons** (muons detected **before** interaction with the volume of interest).\n",
    "\n",
    "-  The **outgoing muons** (muons detected **after** interaction with the volume of interest)."
   ]
  },
  {
   "cell_type": "markdown",
   "metadata": {},
   "source": [
    "First, let's gather the **incoming muon hits**. In the input data file, **panels** are **labeled** from **top to bottom**: \n",
    "\n",
    " - **Labels 0, 1, 2** correspond to the **detector panels** placed **before** the **volume of interest**.\n",
    "\n",
    " - **Labels 3, 4, 5** correspond to the **detector panels** placed **after**."
   ]
  },
  {
   "cell_type": "code",
   "execution_count": null,
   "metadata": {},
   "outputs": [],
   "source": [
    "csv_file = '../muograph/data/iron_barrel/barrel_and_cubes_scattering.csv'\n",
    "\n",
    "from muograph.hits.hits import Hits\n",
    "\n",
    "hits_in = Hits(\n",
    "    csv_filename = csv_file,  # The csv file\n",
    "    plane_labels = (0, 1, 2),  # Include hits from first planes 0, 1 and 2\n",
    "    input_unit = \"mm\",  # The distance unit in the csv file.\n",
    "    spatial_res = (1.0, 1.0, 0.),  # The spatial resolution along x, y and z in mm.\n",
    "    efficiency = 0.90,\n",
    ")\n",
    "hits_in"
   ]
  },
  {
   "cell_type": "code",
   "execution_count": null,
   "metadata": {},
   "outputs": [],
   "source": [
    "hits_out = Hits(\n",
    "    csv_filename = csv_file,  # The csv file\n",
    "    plane_labels = (3, 4, 5),  # Include hits from first planes 0, 1 and 2\n",
    "    input_unit = \"mm\",  # The distance unit in the csv file.\n",
    "    spatial_res = (1.0, 1.0, 0.),  # The spatial resolution along x, y and z in mm.\n",
    "    efficiency = 0.90,\n",
    ")\n",
    "hits_out"
   ]
  },
  {
   "cell_type": "markdown",
   "metadata": {},
   "source": [
    "We can now initialize the respective `Tracking`:"
   ]
  },
  {
   "cell_type": "code",
   "execution_count": null,
   "metadata": {},
   "outputs": [],
   "source": [
    "from muograph.tracking.tracking import Tracking\n",
    "\n",
    "tracks_in = Tracking(label=\"above\", hits=hits_in)\n",
    "tracks_out = Tracking(label=\"below\", hits=hits_out)\n",
    "\n",
    "tracks_in, tracks_out"
   ]
  },
  {
   "cell_type": "markdown",
   "metadata": {},
   "source": [
    "The `TrackingMST` class **takes** the following **arguments**:\n",
    "\n",
    "- `trackings (Optional[Tuple[Tracking, Tracking]])`: instances of the Tracking class\n",
    "for the incoming muon tracks (Tracking.label = 'above') and outgoing tracks\n",
    "(Tracking.label = 'below')\n",
    "\n",
    "\n",
    "- `output_dir (Optional[str])`: Path to a directory where to save TrackingMST attributes\n",
    "in a hdf5 file."
   ]
  },
  {
   "cell_type": "code",
   "execution_count": null,
   "metadata": {},
   "outputs": [],
   "source": [
    "output_dir = \"../output_test/\"\n",
    "\n",
    "from muograph.tracking.tracking import TrackingMST\n",
    "mst = TrackingMST(trackings=(tracks_in, tracks_out))\n",
    "mst"
   ]
  },
  {
   "cell_type": "markdown",
   "metadata": {},
   "source": [
    "### **Efficiency**"
   ]
  },
  {
   "cell_type": "markdown",
   "metadata": {},
   "source": [
    "**Efficiencies** of the **incoming** and **outgoing** **tracks** (`tracks_in.tracks_eff` and `tracks_out.tracks_eff`) are **combined** to compute the event-wise efficiency `mst.muon_eff`."
   ]
  },
  {
   "cell_type": "code",
   "execution_count": null,
   "metadata": {},
   "outputs": [],
   "source": [
    "tracks_in.tracks_eff, tracks_out.tracks_eff"
   ]
  },
  {
   "cell_type": "markdown",
   "metadata": {},
   "source": [
    "If both `tracks_in.tracks_eff` and `tracks_out.tracks_eff` = 1, `mst.muon_eff` is set to `True`. Otherwise, it is set to `False`.\n",
    "\n",
    "Only muons with `muon_eff == True` are kept. "
   ]
  },
  {
   "cell_type": "code",
   "execution_count": null,
   "metadata": {},
   "outputs": [],
   "source": [
    "(tracks_in.tracks_eff.bool() & tracks_out.tracks_eff.bool()).sum(), mst.muon_eff.sum()"
   ]
  },
  {
   "cell_type": "markdown",
   "metadata": {},
   "source": [
    "AS expected, the resulting **tracking efficiency** is the **product** of the **incoming** and **outgoing** tracks **efficiency**."
   ]
  },
  {
   "cell_type": "code",
   "execution_count": null,
   "metadata": {},
   "outputs": [],
   "source": [
    "tracks_in.tracking_eff * tracks_out.tracking_eff, mst.tracking_eff"
   ]
  },
  {
   "cell_type": "markdown",
   "metadata": {},
   "source": [
    "The `TrackingMST` class **combines** the **features** of both `Tracking` instances:\n",
    "\n",
    "### **Tracks**"
   ]
  },
  {
   "cell_type": "code",
   "execution_count": null,
   "metadata": {},
   "outputs": [],
   "source": [
    "event = 8114\n",
    "f\"Muon #{event} incoming direction px, py, pz = {mst.tracks_in[event, 0]:.3f}, {mst.tracks_in[event, 1]:.3f}, {mst.tracks_in[event, 2]:.3f}\""
   ]
  },
  {
   "cell_type": "code",
   "execution_count": null,
   "metadata": {},
   "outputs": [],
   "source": [
    "f\"Muon #{event} outgoing direction px, py, pz = {mst.tracks_out[event, 0]:.3f}, {mst.tracks_in[event, 1]:.3f}, {mst.tracks_in[event, 2]:.3f}\""
   ]
  },
  {
   "cell_type": "markdown",
   "metadata": {},
   "source": [
    "### **Points**"
   ]
  },
  {
   "cell_type": "code",
   "execution_count": null,
   "metadata": {},
   "outputs": [],
   "source": [
    "f\"Muon #{event} incoming position x, y, z = {mst.points_in[event, 0]:.3f}, {mst.points_in[event, 1]:.3f}, {mst.points_in[event, 2]:.3f} [mm]\""
   ]
  },
  {
   "cell_type": "code",
   "execution_count": null,
   "metadata": {},
   "outputs": [],
   "source": [
    "f\"Muon #{event} incoming position x, y, z = {mst.points_out[event, 0]:.3f}, {mst.points_out[event, 1]:.3f}, {mst.points_out[event, 2]:.3f} [mm]\""
   ]
  },
  {
   "cell_type": "markdown",
   "metadata": {},
   "source": [
    "### **Angles**\n",
    "\n",
    "**Angles** are expressed in **radiants**.\n",
    "\n",
    "#### **Zenith angles**"
   ]
  },
  {
   "cell_type": "code",
   "execution_count": null,
   "metadata": {},
   "outputs": [],
   "source": [
    "f\"Muon #{event} has incoming zenith angle = {mst.theta_in[event]:.3f} [rad]\""
   ]
  },
  {
   "cell_type": "code",
   "execution_count": null,
   "metadata": {},
   "outputs": [],
   "source": [
    "f\"Muon #{event} has outgoing zenith angle = {mst.theta_out[event]:.3f} [rad]\"\n"
   ]
  },
  {
   "cell_type": "code",
   "execution_count": null,
   "metadata": {},
   "outputs": [],
   "source": [
    "from muograph.plotting.plotting import plot_hist\n",
    "import torch\n",
    "plot_hist(mst.theta_in if mst.theta_in.device == torch.device(\"cpu\") else mst.theta_in.cpu() , xlabel = r\"$\\theta_{in}$ [rad]\")"
   ]
  },
  {
   "cell_type": "code",
   "execution_count": null,
   "metadata": {},
   "outputs": [],
   "source": [
    "from muograph.plotting.plotting import plot_hist\n",
    "plot_hist(mst.theta_out if mst.theta_out.device == torch.device(\"cpu\") else mst.theta_out.cpu() , xlabel = r\"$\\theta_{out}$ [rad]\" )"
   ]
  },
  {
   "cell_type": "markdown",
   "metadata": {},
   "source": [
    "#### **Scattering angle**\n",
    "\n",
    "The muon scatteing angle $\\Delta\\theta$ is computed from the inmcopming and outgoing tracks direction $\\overrightarrow{T}_{in} = (p_{x, in}, p_{y, in}, p_{z, in})$ and $\\overrightarrow{T}_{out} = (p_{x, out}, p_{y, out}, p_{z, out})$:\n",
    "\n",
    "$$\n",
    "\\Delta\\theta = cos^{-1}\\left(\\frac{\\overrightarrow{T}_{in} \\cdot \\overrightarrow{T}_{out}}{|\\overrightarrow{T}_{in}| |\\overrightarrow{T}_{out}|}\\right)\n",
    "$$"
   ]
  },
  {
   "cell_type": "code",
   "execution_count": null,
   "metadata": {},
   "outputs": [],
   "source": [
    "f\"Muon #{event} has scattering angle = {mst.dtheta[event]:.4f} [rad]\"\n"
   ]
  },
  {
   "cell_type": "code",
   "execution_count": null,
   "metadata": {},
   "outputs": [],
   "source": [
    "plot_hist(mst.dtheta if mst.dtheta.device == torch.device(\"cpu\") else mst.dtheta.cpu() , xlabel = r\"$\\Delta\\theta$ [rad]\",  logy=True)"
   ]
  },
  {
   "cell_type": "markdown",
   "metadata": {},
   "source": [
    "#### **Summary**\n",
    "\n",
    "The **zenith angle**, **energy** and **scattering angle distributions** can be **plotted** using the `plot_muon_features` function. \n",
    "\n",
    "If a file name is provided as `figname`, the **figure** is **saved** as the desired location."
   ]
  },
  {
   "cell_type": "code",
   "execution_count": null,
   "metadata": {},
   "outputs": [],
   "source": [
    "mst.plot_muon_features(figname=output_dir+\"theta_dtheta_E\")"
   ]
  },
  {
   "cell_type": "markdown",
   "metadata": {},
   "source": [
    "#### **Plot event**\n",
    "\n",
    "The **fitted tracks** can be **plotted** using the `TrackingMST.plot_tracking_event()` function. \n",
    "\n",
    "\n",
    "Similarly to `Tracking.plot_tracking_event()` it displays the fitted points and tracks on a 2D projection."
   ]
  },
  {
   "cell_type": "code",
   "execution_count": null,
   "metadata": {},
   "outputs": [],
   "source": [
    "mst.plot_tracking_event(\n",
    "    proj=\"YZ\", # The desired projection\n",
    "    event=event, # The event to plot\n",
    "    figname=\"../output_test/tracking_event_mst_YZ\", # Name of the figure to save\n",
    "    )\n",
    "\n",
    "mst.plot_tracking_event(\n",
    "    proj=\"XZ\", # The desired projection\n",
    "    event=event,  # The event to plot\n",
    "    figname=\"../output_test/tracking_event_mst_XZ\", # Name of the figure to save\n",
    "    )"
   ]
  },
  {
   "cell_type": "markdown",
   "metadata": {},
   "source": [
    "If an instance of the `Volume` class interest is provided, the **volume of interest** gets represented on the plot: "
   ]
  },
  {
   "cell_type": "code",
   "execution_count": null,
   "metadata": {},
   "outputs": [],
   "source": [
    "from muograph.volume.volume import Volume\n",
    "import numpy as np\n",
    "voi = Volume(\n",
    "    position = (0, 0, -1200),\n",
    "    dimension = (1000, 600, 600),\n",
    "    voxel_width = 20)\n",
    "\n",
    "mst.plot_tracking_event(\n",
    "    voi=voi, # The Volume of interest\n",
    "    proj=\"YZ\",\n",
    "    event=np.random.randint(10000),\n",
    "    figname=\"../output_test/tracking_event_mst_voi\")"
   ]
  },
  {
   "cell_type": "code",
   "execution_count": null,
   "metadata": {},
   "outputs": [],
   "source": []
  }
 ],
 "metadata": {
  "kernelspec": {
   "display_name": "Python 3 (ipykernel)",
   "language": "python",
   "name": "python3"
  },
  "language_info": {
   "codemirror_mode": {
    "name": "ipython",
    "version": 3
   },
   "file_extension": ".py",
   "mimetype": "text/x-python",
   "name": "python",
   "nbconvert_exporter": "python",
   "pygments_lexer": "ipython3",
   "version": "3.10.16"
  }
 },
 "nbformat": 4,
 "nbformat_minor": 2
}
