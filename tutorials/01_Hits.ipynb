{
 "cells": [
  {
   "cell_type": "code",
   "execution_count": null,
   "metadata": {},
   "outputs": [],
   "source": [
    "path_to_muograph = \"../\"\n",
    "import sys\n",
    "sys.path.insert(1, path_to_muograph)"
   ]
  },
  {
   "cell_type": "markdown",
   "metadata": {},
   "source": [
    "![alternative text](../images/muograph_logo.png)\n",
    "\n",
    "\n",
    "**<h1><center>Hits tutorial</center></h1>**\n",
    "\n",
    "The `Hits` class is used to **store** and **process muon hits** on detector planes and  to **simulate** basic **detector reasponse**: spatial resolution and efficiency.\n",
    "\n",
    "**SUMMARY**\n",
    "\n",
    "1. *Initialization*\n",
    "\n",
    "    - Accepts **muon hit** and **energy data** either from a `CSV` file or a `Pandas DataFrame`.\n",
    "    - Supports **unit conversions** for spatial data (e.g., mm, cm, dm, m).\n",
    "    - Allows **event filtering** based on muon energy.\n",
    "\n",
    "2. *Detector effects*:\n",
    "\n",
    "    - Models detector **efficiency** for hit recording and computes a muon detection probability.\n",
    "    - Models detector **spatial resolution** for hit recording by adding Gaussian noise.\n",
    "\n",
    "3. *Data*:\n",
    "\n",
    "    - Stores hits as 3D **tensors** to leverage tensors and **GPU** **acceleration**.\n",
    "    - Stores **generation level hits** (`gen_hits`) and **reconstructed hits** (after efficiency and spatial resolution simulation `reco_hits`) separatly.\n",
    "\n",
    "4. *Visualization*:\n",
    "\n",
    "    - Provides a **plot method** to create 2D histograms of hits on specified detector panels."
   ]
  },
  {
   "cell_type": "markdown",
   "metadata": {},
   "source": [
    "The hits are currently red from either a `.csv` file or a `pandas.DataFrame`. Other file format will be supported in the future.\n",
    "\n",
    "\n",
    "The `Hits` class takes the following arguments:\n",
    "\n",
    " - `csv_filename: str` The file path to the CSV containing hit and energy data. Either `csv_filename` or `df` must be provided, but not both.\n",
    "\n",
    "\n",
    " - `df (Optional[pd.DataFrame])`: A DataFrame containing hit and energy data. Use this instead of loading data from a CSV file.\n"
   ]
  },
  {
   "cell_type": "markdown",
   "metadata": {},
   "source": [
    "#### **IMPORTANT:**\n",
    "\n",
    "The `.csv` file or `pd.DataFrame` must have spcific column labels, corresponding to the hit coordinate ($x, y, z$) and the label of the plane, e.g `X0` is the muon hit $x$ position on plane $0$. \n",
    "\n",
    "Additionally, the muon's energy can be provided.\n",
    "\n",
    "Below is an example of `.csv` file heading:"
   ]
  },
  {
   "cell_type": "code",
   "execution_count": null,
   "metadata": {},
   "outputs": [],
   "source": [
    "csv_file = '../muograph/data/iron_barrel/barrel_and_cubes_scattering.csv'\n",
    "\n",
    "import pandas as pd\n",
    "dataframe = pd.read_csv(csv_file)\n",
    "dataframe.columns"
   ]
  },
  {
   "cell_type": "code",
   "execution_count": null,
   "metadata": {},
   "outputs": [],
   "source": [
    "dataframe.head()"
   ]
  },
  {
   "cell_type": "markdown",
   "metadata": {},
   "source": [
    "Other arguments are:\n",
    "\n",
    " - `plane_labels (Optional[Tuple[int, ...]])`: Specifies the plane labels to include from the data, as a tuple of integers. Only hits from these planes will be loaded if provided.\n",
    "\n",
    " - `spatial_res (Optional[Tuple[float, float, float]])`: The spatial resolution of detector panels along the x, y, and z axes, in units specified by `input_unit`. Assumes uniform resolution across all panels if provided.\n",
    "\n",
    " - `energy_range (Optional[Tuple[float, float]])`: A tuple specifying the minimum and maximum energy range for hits to be included. Only hits within this range will be processed if provided.\n",
    "\n",
    " - `efficiency (float)`: The efficiency factor of the detector panels, applied uniformly across all panels. Defaults to 1.0, representing full efficiency.\n",
    "\n",
    " - `input_unit (str)`: The unit of measurement for the input data (e.g., \"mm\", \"cm\"). Data will be rescaled to millimeters if another unit is specified. Defaults to \"mm\"."
   ]
  },
  {
   "cell_type": "markdown",
   "metadata": {},
   "source": [
    "## **I - Perfect resolution example**"
   ]
  },
  {
   "cell_type": "markdown",
   "metadata": {},
   "source": [
    "Let's instanciate the `Hits` class, using hits corresponding to the 3 first plane of the detector (panels placed above the volume of interest).\n",
    "\n",
    "In this example, **no spatial resolution** nor **efficiency** is simulated."
   ]
  },
  {
   "cell_type": "code",
   "execution_count": null,
   "metadata": {},
   "outputs": [],
   "source": [
    "from muograph.hits.hits import Hits\n",
    "\n",
    "hits_above = Hits(\n",
    "    csv_filename = csv_file,  # The csv file\n",
    "    plane_labels = (0, 1, 2),  # Include hits from first planes 0, 1 and 2\n",
    "    input_unit=\"mm\",  # The distance unit in the csv file.\n",
    ")"
   ]
  },
  {
   "cell_type": "code",
   "execution_count": null,
   "metadata": {},
   "outputs": [],
   "source": [
    "hits_above"
   ]
  },
  {
   "cell_type": "markdown",
   "metadata": {},
   "source": [
    "The `Hits` class conveniently stores the hits in a Pytorch `Tensor`, with shape `(3, n_panels, n_mu)`:"
   ]
  },
  {
   "cell_type": "code",
   "execution_count": null,
   "metadata": {},
   "outputs": [],
   "source": [
    "hits_above.gen_hits, hits_above.gen_hits.shape"
   ]
  },
  {
   "cell_type": "code",
   "execution_count": null,
   "metadata": {},
   "outputs": [],
   "source": [
    "event = 120\n",
    "plane_label = 0\n",
    "\n",
    "(\n",
    "    f\"Muon #{event} hits detector panel {plane_label} \"\n",
    "    f\"at x, y, z = {hits_above.gen_hits[0, plane_label, event]:.1f},\"\n",
    "    f\" {hits_above.gen_hits[1, plane_label, event]:.1f},\"\n",
    "    f\" {hits_above.gen_hits[2, plane_label, event]:.1f} mm \"\n",
    ")\n"
   ]
  },
  {
   "cell_type": "code",
   "execution_count": null,
   "metadata": {},
   "outputs": [],
   "source": []
  },
  {
   "cell_type": "markdown",
   "metadata": {},
   "source": [
    "Muon hits can be plotted on a 2D histogram, using the `plot` method:"
   ]
  },
  {
   "cell_type": "code",
   "execution_count": null,
   "metadata": {},
   "outputs": [],
   "source": [
    "hits_above.plot(plane_label = 0)\n",
    "hits_above.plot(plane_label = 1)\n",
    "hits_above.plot(plane_label = 2)"
   ]
  },
  {
   "cell_type": "markdown",
   "metadata": {},
   "source": [
    "Because no spatial resolution value was used as argument, the generation level hits `gen_hits` and reconstructed hits `reco_hits` are identical:"
   ]
  },
  {
   "cell_type": "code",
   "execution_count": null,
   "metadata": {},
   "outputs": [],
   "source": [
    "diff = (hits_above.gen_hits - hits_above.reco_hits).unique()\n",
    "diff"
   ]
  },
  {
   "cell_type": "markdown",
   "metadata": {},
   "source": [
    "## **II - 1mm spatial resolution example**\n",
    "\n",
    "Now let's **simulate** a **1 mm spatial resolution** along the horizontal direction ($x, y$ axis), by providing a `spatial_res` argument.\n",
    "\n",
    "Assuming horizontal planes, we choose a spatial resolution of 1 mm along the $x$ and $y$ axis. The vertical coordinate $z$ is left unchanged."
   ]
  },
  {
   "cell_type": "code",
   "execution_count": null,
   "metadata": {},
   "outputs": [],
   "source": [
    "hits_1mm = Hits(\n",
    "    csv_filename = csv_file,  # The csv file\n",
    "    plane_labels = (0, 1, 2),  # Include hits from first planes 0, 1 and 2\n",
    "    input_unit = \"mm\",  # The distance unit in the csv file.\n",
    "    spatial_res = (1.0, 1.0, 0.)  # The spatial resolution along x, y and z in mm.\n",
    ")"
   ]
  },
  {
   "cell_type": "markdown",
   "metadata": {},
   "source": [
    "The **reconstructed hits** `reco-hits` are computed by adding **Gaussian noise** to the true hits `gen_hits`:\n",
    "\n",
    "$$\n",
    "xyz_{\\mathrm{reco}} = xyz_{\\mathrm{gen}} + \\mathcal{G}(\\mu=0, \\sigma = \\sigma_{xyz}) \n",
    "$$\n",
    "\n",
    "with $\\mathcal{G}$ a Guassian distribution with mean $\\mu = 0$ and standard deviation $\\sigma$.\n",
    "\n",
    "The **spatial resolution** is assumed to be **uniform** across the whole panel's area."
   ]
  },
  {
   "cell_type": "code",
   "execution_count": null,
   "metadata": {},
   "outputs": [],
   "source": [
    "# Copmute the difference between true and reconstructed hits\n",
    "diff = (hits_1mm.gen_hits - hits_1mm.reco_hits)\n",
    "diff_x, diff_y, diff_z = diff[0].ravel(), diff[1].ravel(), diff[2].ravel()"
   ]
  },
  {
   "cell_type": "code",
   "execution_count": null,
   "metadata": {},
   "outputs": [],
   "source": [
    "from muograph.plotting.plotting import plot_hist\n",
    "plot_hist(diff_x, xlabel=r\"error on $x$ [mm]\")\n",
    "plot_hist(diff_y, xlabel=r\"error on $y$ [mm]\")\n",
    "plot_hist(diff_z, xlabel=r\"error on $z$ [mm]\")\n"
   ]
  },
  {
   "cell_type": "markdown",
   "metadata": {},
   "source": [
    "The **effect** of **spatial resolution** on the reconstructed **tracks** will be treated in **tutorial 2**: `02_Tracking.ipynb`."
   ]
  },
  {
   "cell_type": "markdown",
   "metadata": {},
   "source": [
    "## **III - 90% efficiency example**\n",
    "\n",
    "Now let's **simulate** a 90% individual panel **efficiency** by providing an efficiency argument."
   ]
  },
  {
   "cell_type": "code",
   "execution_count": null,
   "metadata": {},
   "outputs": [],
   "source": [
    "hits_90eff = Hits(\n",
    "    csv_filename = csv_file,  # The csv file\n",
    "    plane_labels = (0, 1, 2),  # Include hits from first planes 0, 1 and 2\n",
    "    input_unit = \"mm\",  # The distance unit in the csv file.\n",
    "    efficiency = 0.90,  # The individual panel detection efficiency \n",
    "    )"
   ]
  },
  {
   "cell_type": "markdown",
   "metadata": {},
   "source": [
    "The **efficiency** is defined as the **probability** for a **hit** to be **recorded** by a detector panel.\n",
    "\n",
    "Based on the efficiency value, each hit receives either 1 (hit detected) or 0 (no detection) as a `hits_eff` variable."
   ]
  },
  {
   "cell_type": "code",
   "execution_count": null,
   "metadata": {},
   "outputs": [],
   "source": [
    "from muograph.plotting.plotting import plot_hist\n",
    "plot_hist(hits_90eff.hits_eff.ravel(), xlabel=\"Hits efficiency\", n_bins=10)\n",
    "\n",
    "n_hits = (hits_90eff.n_mu * hits_90eff.n_panels)\n",
    "n_detected_hits = hits_90eff.hits_eff.sum().detach().cpu().item()\n",
    "n_rejected_hits =  n_hits - n_detected_hits\n",
    "\n",
    "print(f\"# detected hits = {n_detected_hits}\")\n",
    "print(f\"# rejected hits = {n_rejected_hits}\")\n",
    "print(f\"effective efficiency = {(n_detected_hits / n_hits) * 100 :.2f}\")\n"
   ]
  },
  {
   "cell_type": "markdown",
   "metadata": {},
   "source": [
    "The effect of efficiency on the reconstructed tracks will be treated in tutorial 3: `03_Tracking_muon_scattering_tomography.ipynb`."
   ]
  },
  {
   "cell_type": "code",
   "execution_count": null,
   "metadata": {},
   "outputs": [],
   "source": []
  }
 ],
 "metadata": {
  "kernelspec": {
   "display_name": "Python 3 (ipykernel)",
   "language": "python",
   "name": "python3"
  },
  "language_info": {
   "codemirror_mode": {
    "name": "ipython",
    "version": 3
   },
   "file_extension": ".py",
   "mimetype": "text/x-python",
   "name": "python",
   "nbconvert_exporter": "python",
   "pygments_lexer": "ipython3",
   "version": "3.10.16"
  }
 },
 "nbformat": 4,
 "nbformat_minor": 2
}
